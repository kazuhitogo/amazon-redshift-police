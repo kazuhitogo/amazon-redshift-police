{
 "cells": [
  {
   "cell_type": "code",
   "execution_count": null,
   "id": "01b10250",
   "metadata": {
    "scrolled": true
   },
   "outputs": [],
   "source": [
    "!pip install tensorflow==2.6.2 -U"
   ]
  },
  {
   "cell_type": "code",
   "execution_count": null,
   "id": "b6bdcef4",
   "metadata": {},
   "outputs": [],
   "source": [
    "import tensorflow as tf\n",
    "import numpy as np\n",
    "import matplotlib.pyplot as plt"
   ]
  },
  {
   "cell_type": "code",
   "execution_count": null,
   "id": "39032ee7",
   "metadata": {
    "scrolled": true
   },
   "outputs": [],
   "source": [
    "image_name = 'amazon-redshift-police-generate-image'\n",
    "tag = ':1'\n",
    "%cd ./docker/make_image_container\n",
    "# !docker rmi -f $(docker images -a -q)\n",
    "!docker build -t {image_name}{tag} .\n",
    "%cd ../../"
   ]
  },
  {
   "cell_type": "code",
   "execution_count": null,
   "id": "83132bd7",
   "metadata": {},
   "outputs": [],
   "source": [
    "!sudo rm -rf img/\n",
    "!sudo rm -rf data/"
   ]
  },
  {
   "cell_type": "code",
   "execution_count": null,
   "id": "294ed7cd",
   "metadata": {},
   "outputs": [],
   "source": [
    "!docker run --rm -v $(pwd):/workspace {image_name}{tag} python3 src/generate_image.py --check-names \"Amazon Redshift/Amazon RedShift\""
   ]
  },
  {
   "cell_type": "code",
   "execution_count": null,
   "id": "2848f77a",
   "metadata": {},
   "outputs": [],
   "source": [
    "!rm img.zip\n",
    "!zip -r img.zip img/"
   ]
  },
  {
   "cell_type": "code",
   "execution_count": null,
   "id": "2fb0ada6",
   "metadata": {
    "scrolled": true
   },
   "outputs": [],
   "source": [
    "image_name = 'amazon-redshift-police-train-image'\n",
    "tag = ':1'\n",
    "%cd ./docker/train_container\n",
    "# !docker rmi -f $(docker images -a -q)\n",
    "!docker build -t {image_name}{tag} .\n",
    "%cd ../../"
   ]
  },
  {
   "cell_type": "code",
   "execution_count": null,
   "id": "7cd5d16c",
   "metadata": {
    "scrolled": true
   },
   "outputs": [],
   "source": [
    "!docker run --rm -v $(pwd):/workspace {image_name}{tag} python3 src/train.py --sm-model-dir \"model\" --train \"data\" --epochs 1"
   ]
  },
  {
   "cell_type": "code",
   "execution_count": null,
   "id": "51ff8bdd",
   "metadata": {},
   "outputs": [],
   "source": [
    "model = tf.keras.models.load_model('./model/000000001/')"
   ]
  },
  {
   "cell_type": "code",
   "execution_count": null,
   "id": "cb34a118",
   "metadata": {},
   "outputs": [],
   "source": [
    "train_X = np.load('data/train_X.npy')\n",
    "train_y = np.load('data/train_y.npy')"
   ]
  },
  {
   "cell_type": "code",
   "execution_count": null,
   "id": "7bc287e2",
   "metadata": {},
   "outputs": [],
   "source": [
    "for i in range(train_X.shape[0]):\n",
    "    pred_y = 0 if model.predict(train_X[i:i+1,:,:]) < 0.5 else 1\n",
    "    if pred_y==train_y[i]:\n",
    "        print('OK')\n",
    "    else:\n",
    "        print('NG')"
   ]
  },
  {
   "cell_type": "code",
   "execution_count": null,
   "id": "05315f09",
   "metadata": {},
   "outputs": [],
   "source": [
    "plt.plot(pred_y,train_y)"
   ]
  },
  {
   "cell_type": "code",
   "execution_count": null,
   "id": "3587fa58",
   "metadata": {},
   "outputs": [],
   "source": []
  }
 ],
 "metadata": {
  "kernelspec": {
   "display_name": "conda_python3",
   "language": "python",
   "name": "conda_python3"
  },
  "language_info": {
   "codemirror_mode": {
    "name": "ipython",
    "version": 3
   },
   "file_extension": ".py",
   "mimetype": "text/x-python",
   "name": "python",
   "nbconvert_exporter": "python",
   "pygments_lexer": "ipython3",
   "version": "3.6.13"
  }
 },
 "nbformat": 4,
 "nbformat_minor": 5
}
